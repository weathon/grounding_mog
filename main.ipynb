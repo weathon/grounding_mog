{
 "cells": [
  {
   "cell_type": "code",
   "execution_count": null,
   "metadata": {},
   "outputs": [],
   "source": [
    "import os\n",
    "import cv2\n",
    "videos = [\"_\".join(i.split(\"_\")[:-1]) for i in os.listdir(\"sim/in\")]\n",
    "\n",
    "frames = sorted([i for i in os.listdir(\"sim/in\") if i.startswith(\"vid2_human\")])"
   ]
  },
  {
   "cell_type": "code",
   "execution_count": 3,
   "metadata": {},
   "outputs": [],
   "source": [
    "# import numpy as np\n",
    "# from IPython.display import display, clear_output, HTML\n",
    "# import cv2\n",
    "# import pylab\n",
    "\n",
    "\n",
    "# bgsub = cv2.createBackgroundSubtractorMOG2(history=10)\n",
    "# for frame in frames:\n",
    "#     img = cv2.imread(\"sim/in/\" + frame)\n",
    "#     bgsub.apply(img)\n",
    "#     bg = bgsub.getBackgroundImage().astype(float)\n",
    "#     diff = cv2.absdiff(img.astype(float), bg)/255 * 10\n",
    "#     diff = np.clip(diff, 0, 1)\n",
    "#     pylab.imshow(diff)\n",
    "#     pylab.axis('off')\n",
    "#     display(pylab.gcf())\n",
    "#     clear_output(wait=True)"
   ]
  },
  {
   "cell_type": "code",
   "execution_count": 4,
   "metadata": {},
   "outputs": [
    {
     "name": "stderr",
     "output_type": "stream",
     "text": [
      "TqdmWarning: IProgress not found. Please update jupyter and ipywidgets. See https://ipywidgets.readthedocs.io/en/stable/user_install.html\n",
      "UserWarning: torch.meshgrid: in an upcoming release, it will be required to pass the indexing argument. (Triggered internally at ../aten/src/ATen/native/TensorShape.cpp:3609.)\n"
     ]
    },
    {
     "name": "stdout",
     "output_type": "stream",
     "text": [
      "final text_encoder_type: bert-base-uncased\n"
     ]
    },
    {
     "name": "stderr",
     "output_type": "stream",
     "text": [
      "FutureWarning: You are using `torch.load` with `weights_only=False` (the current default value), which uses the default pickle module implicitly. It is possible to construct malicious pickle data which will execute arbitrary code during unpickling (See https://github.com/pytorch/pytorch/blob/main/SECURITY.md#untrusted-models for more details). In a future release, the default value for `weights_only` will be flipped to `True`. This limits the functions that could be executed during unpickling. Arbitrary objects will no longer be allowed to be loaded via this mode unless they are explicitly allowlisted by the user via `torch.serialization.add_safe_globals`. We recommend you start setting `weights_only=True` for any use case where you don't have full control of the loaded file. Please open an issue on GitHub for any issues related to this experimental feature.\n"
     ]
    }
   ],
   "source": [
    "# import requests\n",
    "\n",
    "# import torch\n",
    "# from PIL import Image\n",
    "# from transformers import AutoProcessor, AutoModelForZeroShotObjectDetection\n",
    "\n",
    "# model_id = \"IDEA-Research/grounding-dino-tiny\"\n",
    "# device = \"cuda\"\n",
    "\n",
    "# processor = AutoProcessor.from_pretrained(model_id)\n",
    "# model = AutoModelForZeroShotObjectDetection.from_pretrained(model_id).to(device)\n",
    "\n",
    "from groundingdino.util.inference import load_model, load_image, predict\n",
    "import cv2\n",
    "model = load_model(\"GroundingDINO/groundingdino/config/GroundingDINO_SwinB_cfg.py\", \"GroundingDINO/groundingdino_swinb_cogcoor.pth\")\n"
   ]
  },
  {
   "cell_type": "code",
   "execution_count": 13,
   "metadata": {},
   "outputs": [
    {
     "name": "stderr",
     "output_type": "stream",
     "text": [
      "  0%|          | 0/451 [00:00<?, ?it/s]"
     ]
    },
    {
     "name": "stderr",
     "output_type": "stream",
     "text": [
      "100%|██████████| 451/451 [01:27<00:00,  5.13it/s]\n"
     ]
    },
    {
     "data": {
      "text/plain": [
       "0"
      ]
     },
     "execution_count": 13,
     "metadata": {},
     "output_type": "execute_result"
    }
   ],
   "source": [
    "import pylab\n",
    "import numpy as np\n",
    "from IPython.display import display, clear_output, HTML\n",
    "from torchvision.ops import box_convert\n",
    "import torch\n",
    "from tqdm import tqdm\n",
    "\n",
    "# text = \"steam. human. birds. cars. \"\n",
    "text = \"on a black background, there are possible white bird and white car or white human. There could also be possible a plume of gas, which look like white semi-transparent fluid.\"\n",
    "# white car so it udnerstand the color\n",
    "img0 = cv2.imread(\"sim/in/\" + frames[0])\n",
    "history_state = []\n",
    "bgsub = cv2.createBackgroundSubtractorMOG2(history=30)\n",
    "video_writer = cv2.VideoWriter(\"out.mp4\", cv2.VideoWriter_fourcc(*'mp4v'), 30, (img0.shape[1], img0.shape[0]))\n",
    "for frame in tqdm(frames):\n",
    "    img = cv2.imread(\"sim/in/\" + frame)\n",
    "    bgsub.apply(img)\n",
    "    bg = bgsub.getBackgroundImage().astype(float)\n",
    "    diff = cv2.absdiff(img.astype(float), bg) #too large cannot see detial\n",
    "    diff = np.clip(diff, 0, 255).astype(np.uint8)\n",
    "    \n",
    "    cv2.imwrite(\"/tmp/frame.png\", diff)\n",
    "    image_source, image = load_image(\"/tmp/frame.png\")   \n",
    "    h, w, _ = image_source.shape\n",
    "    boxes, logits, phrases = predict(\n",
    "        model=model,\n",
    "        image=image,\n",
    "        caption=text,\n",
    "        box_threshold=0.3,\n",
    "        text_threshold=0.3\n",
    "    )\n",
    "\n",
    "    frame = image_source.copy()\n",
    "    current_state = []\n",
    "    for box, phrase, logit in zip(boxes, phrases, logits):\n",
    "        # convert box (0-1) from xywh to pixel in x1, y1, x2, y2\n",
    "        boxes_unnorm = box * torch.tensor([w, h, w, h], dtype=torch.float32)\n",
    "        boxes_unnorm = box_convert(boxes_unnorm.unsqueeze(0), 'cxcywh', 'xyxy').squeeze(0).int().tolist()\n",
    "        x1, y1, x2, y2 = boxes_unnorm\n",
    "        if \"plume\" in phrase or \"steam\" in phrase:\n",
    "            cv2.rectangle(frame, (x1, y1), (x2, y2), (255,0,255), 2)\n",
    "            cv2.putText(frame, phrase, (x1, y1 - 10), cv2.FONT_HERSHEY_SIMPLEX, 0.9, (255,0,255), 1)\n",
    "            current_state.append((x1, y1, x2, y2))\n",
    "        else:\n",
    "            cv2.rectangle(frame, (x1, y1), (x2, y2), (0,255,0), 2)\n",
    "            cv2.putText(frame, phrase, (x1, y1 - 10), cv2.FONT_HERSHEY_SIMPLEX, 0.9, (0,255,0), 1)\n",
    "    history_state.append(current_state)\n",
    "    video_writer.write(frame)\n",
    "    \n",
    "video_writer.release()\n",
    "os.system(\"ffmpeg -i out.mp4 -c:v libx264 out_x264.mp4 -y > /dev/null 2>&1\")"
   ]
  },
  {
   "cell_type": "code",
   "execution_count": null,
   "metadata": {},
   "outputs": [],
   "source": []
  }
 ],
 "metadata": {
  "kernelspec": {
   "display_name": "Python 3",
   "language": "python",
   "name": "python3"
  },
  "language_info": {
   "codemirror_mode": {
    "name": "ipython",
    "version": 3
   },
   "file_extension": ".py",
   "mimetype": "text/x-python",
   "name": "python",
   "nbconvert_exporter": "python",
   "pygments_lexer": "ipython3",
   "version": "3.10.12"
  }
 },
 "nbformat": 4,
 "nbformat_minor": 2
}
